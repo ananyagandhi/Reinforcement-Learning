{
  "nbformat": 4,
  "nbformat_minor": 0,
  "metadata": {
    "colab": {
      "provenance": []
    },
    "kernelspec": {
      "name": "python3",
      "display_name": "Python 3"
    },
    "language_info": {
      "name": "python"
    }
  },
  "cells": [
    {
      "cell_type": "markdown",
      "source": [
        "# Reinforcement Learning - Homework 2\n",
        "Ananya Gandhi, UNI: ag4348"
      ],
      "metadata": {
        "id": "cE3_B7uxb0el"
      }
    },
    {
      "cell_type": "markdown",
      "source": [
        "## Written Homework\n"
      ],
      "metadata": {
        "id": "vrVrQU23b0b8"
      }
    },
    {
      "cell_type": "markdown",
      "source": [
        "### Question 1: can chess be modeled as a Markov Decision Process\n",
        "Yes, chess can be modeled as a Markov Decision Process. If the opponent is considered to be the \"environment\", then we can model chess as a Markov Decision Process with probablistic/stochastic transitions, rather than deterministic transitions. Each state of the Markov Decision Process represents the configuration of the chess board at that point in time, and while the agent can select the action/move it desires, the next state has a probablistic element in that the opponent's action cannot be predicted. Thus, state transitions are non-deterministic, and for every state-action pair, the transition probability depends on the opponent's transition function: $\\mathbb{P}(s' | s, a)$. We attempt to learn the opponent's probability distribution function for selecting their action in order to predict the next state and determine the probability of each transition. \n",
        "\n",
        "Additionally, discounted rewards can be used to determine the optimal policy; the end states have a reward associated if the agent wins (or a reward of 0 if the agent ties, and a reward of -1 if the agent loses). Then, at every state, the value of that state is dependent on the number of paths between the state and a winning configuration, as well as the number of steps until victory in order to prioritize current rewards over later rewards. This allows the agent to learn which policy will maximize the probability of its victory. \n",
        "\n",
        "A pure greedy policy, for example, would involve selecting the action $a(s)$ at each step by finding which available action will maximize the expected value of the next state. \n",
        "\n",
        "$$\n",
        "  a(s) = argmax_{a \\in A} \\left( V(s') \\cdot \\mathbb{P}(s' | s, a) \\right)\n",
        "$$\n",
        "\n",
        "Other policies that allow for exploration would also allow the agent to explore more tactics in order to better learn and predict what choices the opponent may make. \n",
        "\n",
        "Although it is possible to model chess using a Markov Decision Process, it is important to recognize the extremely high branching factor and high depth of game trees that model a game of chess. The number of possible chess board configurations is estimated to be approximately $10^{50}$, thus truly implementing a Markov Decision Process to simulate chess would be computationally intractable. "
      ],
      "metadata": {
        "id": "hpI1y1Sib0ZJ"
      }
    },
    {
      "cell_type": "markdown",
      "source": [
        "### Question 2: given a policy $\\pi$ that maps each state in an MDP to a probability distribution of actions\n",
        "\n",
        "2a) $v_{\\pi}$ in terms of $q_{\\pi}$\n",
        "\n",
        "$$\n",
        "    v_{\\pi} (s) = \\sum_a \\pi(a | s) \\sum_{s', r} p(s', r | s, a) \\Bigl[ r + \\gamma v_{\\pi}(s') \\Bigr]  \\\\\n",
        "    q_{\\pi} (s, a) = \\sum_{s', r} p(s', r | s, a) \\Bigl[ r + \\gamma v_{\\pi}(s') \\Bigr]  \\\\\n",
        "    v_{\\pi} (s) = \\sum_{a} \\pi(a | s) q_{\\pi}(s, a) \n",
        "$$\n",
        "\n",
        "2b) $q_{\\pi}$ in terms of $v_{\\pi}$\n",
        "\n",
        "$$\n",
        "    q_{\\pi} (s, a) = \\sum_{s', r} p(s', r | s, a) \\Bigl[r + \\gamma v_{\\pi} (s') \\Bigr]\n",
        "$$\n",
        "\n",
        "2c) $v_{*}$ in terms of $q_{*}$\n",
        "\n",
        "$$\n",
        "    v_{*} (s) = \\max_{a}  q_{\\pi}(s, a) \n",
        "$$\n",
        "\n",
        "2d) $q_{*}$ in terms of $v_{*}$\n",
        "\n",
        "$$\n",
        "    q_{*} (s, a) = \\sum_{s', r} p(s', r | s, a) \\Bigl[r + \\gamma \\max_{a'} q_{*} (s', a') \\Bigr] \\\\\n",
        "    v_{*} (s') = \\max_{a'}  q_{\\pi}(s', a') \\\\\n",
        "    q_{*} (s, a) = \\sum_{s', r} p(s', r | s, a) \\Bigl[r + \\gamma v_{*} (s') \\Bigr]\n",
        "$$\n"
      ],
      "metadata": {
        "id": "wWMJJBHjb0WS"
      }
    },
    {
      "cell_type": "markdown",
      "source": [
        "### Question 3: gambler MDP problem, optimal action at states 25, 50, 75\n",
        "\n",
        "In this problem, the probability of winning in any given round is $p_h = 0.4$. Thus, because the coin is biased against the agent, the goal is to reach $100 in the fewest moves possible in order to avoid losing money. Making lots of small bets is not in the gambler's favor, as the gambler would likely lose money. From state 50, there is a 0.4 probability of reaching the end state in a single step and winning. \n",
        "\n",
        "**State 50**\n",
        "\n",
        "Betting 50 at state 50 is the optimal action because the potential for receiving a reward in the next state outweighs the risk of losing everything. Additionally, the value of this action $\\gamma p_h$ outweighs the value of betting an amount less than 50, because the value of that action depends on the discounted values of other states, which means that the reward would be postponed and discounted several times. Considering that the success probability $p_h = 0.4$, it is optimal to take a risk in this step with 0.4 probability of winning it all, rather than make a series of smaller bets and continually face the risk of losing with 0.6 probability. \n",
        "\n",
        "**State 75**\n",
        "\n",
        "At state 75, the optimal action is to bet 25 in order to optimize the expected reward. If 25 is bet and the agent wins (with probability p), then the agent receives a reward in the next state. If the agent loses, the agent returns to state 50, at which stage the agent again has 0.4 probability of winning. The value of betting 25 is simply $\\gamma \\Bigl( p_hV(100) + (1 - p_h)V(50) \\Bigr)$. \n",
        "\n",
        "On the other hand, if the agent chooses to bet an amount $b$ that is less than 25, the agent is taking a risk by playing a longer game where the odds are against the player, in favor of a potential reward at the end. The value of betting less than 25 becomes $\\gamma \\Bigl( p_h V(75 + b) + (1 - p_h)V(75 - b) \\Bigr)$. \n",
        "\n",
        "As a result, the optimal action is to bet 25 because of the potential of receiving a reward immediately in the next state, or being able to win with 0.4 probability if the agent returns to state 50. \n",
        "\n",
        "**State 25**\n",
        "\n",
        "Finally, betting 25 at state 25 is the optimal action because of the probability of winning in 2 rounds, by jumping to 50 and then 100. The high value of state 50 outweighs the risk of losing everything, and also outweighs the value of an action that would risk less but require more rounds of playing and involve a more heavily discounted reward.\n",
        "\n",
        "Betting 25 would potentially bring the agent significantly closer to winning the game (could win in 2 steps) which allows the agent to subvert the risk of playing a longer game with the stakes against the player (0.4 win probability). "
      ],
      "metadata": {
        "id": "1dTrJWWCb0TU"
      }
    },
    {
      "cell_type": "markdown",
      "source": [
        "### Question 4\n",
        "4a) Base case: $i = j$, so we have\n",
        "$$\n",
        "    d_{i, i}^* = \\min_l (d_{i, l}^* + d_{l, i}) \\\\\n",
        "    d_{i, i}^* = d_{i, i}^*  = 0\n",
        "$$\n",
        "The Bellman-like optimality relationship is correct for the base case, because the distance between a vertex and itself is 0, and this distance in minimum. \n",
        "\n",
        "Inductive Hypothesis: Assume that the relationship $d_{i, j}^* = \\min_l (d_{i, l}^* + d_{l, j}) $ holds for $1 \\leq i, j, l \\leq n$ and that this relationship is true for all $n$ vertices in a graph G. \n",
        "\n",
        "Inductive Step: Add a vertex $n + 1$ to the graph. We have that\n",
        "$$\n",
        "    D_{i, n + 1} = \\begin{cases} \n",
        "    0 & \\text{if i = n + 1} \\\\\n",
        "    d(v_i, v_j) & \\text{if there is an edge from $v_i$ to $n + 1$} \\\\\n",
        "    \\infty & \\text{if there is no edge from $v_i$ to $n + 1$}\n",
        "    \\end{cases}\n",
        "$$\n",
        "\n",
        "To show that $d_{i, n + 1}^* = \\min_l (d_{i, l}^* + d_{l, n + 1}) $ holds for $1 \\leq i, j, l \\leq n + 1$, assume that there exists some distance $d_x$ such that:\n",
        "\n",
        "$$\n",
        "    d_x = \\min (d_{i, n + 1}) < d_{i, n + 1}^* \n",
        "$$\n",
        "\n",
        "Let the set $N$ represent the set of vertices in the initial graph that connect to vertex $n + 1$. \n",
        "\n",
        "$$\n",
        "    d_x < d_{i, n + 1}^* = \\min_{l \\in N} (d_{i, l}^* + d_{l, n + 1}) \\\\\n",
        "    d_x < \\min_{l \\in N} (d_{i, l}^* + d_{l, n + 1}) \n",
        "$$\n",
        "\n",
        "Assume that $n$ is final vertex along the shortest path to vertex $n + 1$, meaning that it is directly connected to vertex $n + 1$. Then, we have\n",
        "$$\n",
        "    d_x = d_{i, n}^* + d_{n, n+1} < \\min_{l \\in N} (d_{i, l}^* + d_{l, n + 1}) \\\\\n",
        "    d_{i, n}^*  < d_{i, n}^*\n",
        "$$\n",
        "\n",
        "Because $n$ is the final vertex along the shortest path, we know that the distance $d_{n, n+1}$ exists on both sides of the inequality, and we conclude that the path $d_x$ must be optimal at some other point. However, this leads us to a contradiction of the Inductive Hypothesis, as we know by definition that $d_{i, n}^*$ is the minimum distance between vertices $i$ and $n$, and thus $d_{i, n}^*  < d_{i, n}^*$ is not true because the two distances are equal. \n",
        "\n",
        "Therefore, through induction, we have shown that the Bellman-like optimality equation holds. \n",
        "\n",
        "The memoryless property of dynamic programming leads us to this relation; because dynamic programming ensures optimality without requiring us to remember the entire history of a problem, we can ensure that the distance up to a specific vertex is minimum without storing the entire path or history up until that point. Additionally, this would not be possible without the discrete and finite properties of dynamic programming that ensure that the algorithm does not get stuck in self-loops or infinite recursion. \n",
        "\n",
        "4b) What are the $D^{(0)}$ and $D^{(1)}$ matrices?\n",
        "\n",
        "$$\n",
        "    D^{(0)} = \\begin{bmatrix}\n",
        "    0 & \\infty  & \\dots & \\infty \\\\\n",
        "    \\infty & 0  & \\dots & \\infty\\\\\n",
        "    \\vdots & \\vdots & \\ddots & \\vdots \\\\   \n",
        "    \\infty & \\infty & \\dots & 0\n",
        "    \\end{bmatrix}\n",
        "$$\n",
        "$D^{(0)}$ is the $n \\times n$ matrix with 0 on the diagonal and $\\infty$ in every other entry. \n",
        "\n",
        "$$\n",
        "    D^{(1)} = \\begin{cases}\n",
        "    0 & i = j \\\\\n",
        "    d(v_i, v_j) & i \\rightarrow j \\\\\n",
        "    \\infty & i \\not\\rightarrow j\n",
        "    \\end{cases}\n",
        "$$\n",
        "\n",
        "$D^{(1)}$ is the $n \\times n$ matrix with 0 on the diagonal, $d(v_i, v_j)$ if there is an edge leading from $i$ to $j$, and $\\infty$ if there is no edge leading from $i$ to $j$. $D^{(1)}$ is the same as the matrix $D_{i, j}$ defined by the problem. \n",
        "\n",
        "4c) The Bellman optimality relationship is:\n",
        "\n",
        "$$\n",
        "    d_{i,j} ^* = \\min_l (d_{i, l} ^* + d_{l,j} ) \n",
        "$$\n",
        "\n",
        "for $1 \\leq i, j, l \\leq n$. \n",
        "\n",
        "Considering that the $\\star$ operator computes the min-sum product of two matrices, we can rewrite the Bellman optimality equation as $D^* = D^* \\star D$. \n",
        "This allows us to compute the matrix by taking the minimum of the sum over all intermediate vertices $l$ (by taking the minimum over the dot product that iterates over all possible vertices by going over all rows and columns in the matrix). "
      ],
      "metadata": {
        "id": "IQwrfC3Om2FZ"
      }
    },
    {
      "cell_type": "markdown",
      "source": [
        "#### Question 4D"
      ],
      "metadata": {
        "id": "X2HE4P34_WnY"
      }
    },
    {
      "cell_type": "code",
      "source": [
        "# given a matrix of distances D, compute d star\n",
        "import numpy as np\n",
        "\n",
        "def dk_star(D, k):\n",
        "  final_matrix = np.copy(D)\n",
        "  \n",
        "  for i in range(k):\n",
        "      final_matrix = d_star(final_matrix, D)\n",
        "  \n",
        "  return final_matrix\n",
        "\n",
        "\n",
        "def d_star(X, Y):\n",
        "  result = np.copy(X)\n",
        "  for i in range(len(X)):\n",
        "      for j in range(len(Y[0])):\n",
        "          for k in range(len(Y)):\n",
        "              result[i,j] = min(result[i,j], X[i,k] + Y[k,j])\n",
        "  \n",
        "  return result\n",
        "\n",
        "matrix = np.array([[0, 5, np.inf, 10], \n",
        "                     [np.inf, 0, 3, np.inf], \n",
        "                     [np.inf, np.inf, 0, 1], \n",
        "                     [np.inf, np.inf, np.inf, 0]])\n",
        "\n",
        "dk_star(matrix, 3)"
      ],
      "metadata": {
        "colab": {
          "base_uri": "https://localhost:8080/"
        },
        "id": "4gzzeQsT_T5i",
        "outputId": "245ec205-c94b-4cb7-9183-4adf9687334e"
      },
      "execution_count": 118,
      "outputs": [
        {
          "output_type": "execute_result",
          "data": {
            "text/plain": [
              "array([[ 0.,  5.,  8.,  9.],\n",
              "       [inf,  0.,  3.,  4.],\n",
              "       [inf, inf,  0.,  1.],\n",
              "       [inf, inf, inf,  0.]])"
            ]
          },
          "metadata": {},
          "execution_count": 118
        }
      ]
    },
    {
      "cell_type": "code",
      "source": [
        "# compare this to computing the matrix D^(k) which is the matrix where the\n",
        "# (i, j)th entry represents the shortest distance from v_i to v_j in k steps\n",
        "\n",
        "def d_k(D, k):\n",
        "    dist = np.copy(D)\n",
        "    \n",
        "    for n in range(k):\n",
        "        for i in range(len(D)):\n",
        "            for j in range(len(D)):  \n",
        "                dist[i,j] = min(dist[i,j], dist[i,n] + dist[n, j])\n",
        "    \n",
        "    return dist\n",
        "\n",
        "def d_optimal(D):\n",
        "    dist = np.copy(D)\n",
        "    \n",
        "    for n in range(len(D)):\n",
        "        for i in range(len(D)):\n",
        "            for j in range(len(D)):  \n",
        "                dist[i,j] = min(dist[i,j], dist[i,n] + dist[n, j])\n",
        "    \n",
        "    return dist\n",
        "\n",
        "matrix = np.array([[0, 5, np.inf, 10], \n",
        "                     [np.inf, 0, 3, np.inf], \n",
        "                     [np.inf, np.inf, 0, 1], \n",
        "                     [np.inf, np.inf, np.inf, 0]])\n",
        "\n",
        "d_k(matrix, 3)"
      ],
      "metadata": {
        "colab": {
          "base_uri": "https://localhost:8080/"
        },
        "id": "piw4KhNoFk6J",
        "outputId": "e0228559-5daf-496d-e912-41d0d26aa73b"
      },
      "execution_count": 119,
      "outputs": [
        {
          "output_type": "execute_result",
          "data": {
            "text/plain": [
              "array([[ 0.,  5.,  8.,  9.],\n",
              "       [inf,  0.,  3.,  4.],\n",
              "       [inf, inf,  0.,  1.],\n",
              "       [inf, inf, inf,  0.]])"
            ]
          },
          "metadata": {},
          "execution_count": 119
        }
      ]
    },
    {
      "cell_type": "markdown",
      "source": [
        "We know that $D^{\\star k} = D^{(k)}$ which can be shown by applying the two algorithms above to the same matrix D. We know that $D^{(n - 1)} = D^*$, which means that the iterative algorithm runs in $\\mathcal{O}(N^{3})$ time, where $N$ is the number of vertices. \n",
        "\n",
        "Additionally, the two algorithms are essentially equivalent because for every pair of 2 vertices in the graph, the algorithms compute the same minimum distance using the following formula:\n",
        "\n",
        "\n",
        "```\n",
        "result[i,j] = min(result[i,j], X[i,k] + Y[k,j]) \n",
        "```\n",
        "\n",
        "where i, j are two vertices and k is some intermediate vertex between them. \n",
        "\n"
      ],
      "metadata": {
        "id": "SOhY2cMnDF8M"
      }
    },
    {
      "cell_type": "markdown",
      "source": [
        "#### Question 4e\n",
        "\n",
        "The predecessor matrix $P^{(k)}$ can be defined in a similar way as the matrix $D$. The predecessor matrix consists of the shortest path from a matrix $i$ to a matrix $j$, but consisting of the vertex $l$ that immediately precedes $j$ in the shortest path. The following algorithm shows that we can compute $P^{(k)}$ while also computing $D^{(k)}$:\n",
        "\n"
      ],
      "metadata": {
        "id": "8QcqfBwBSxKf"
      }
    },
    {
      "cell_type": "code",
      "source": [
        "def p_k(D, k):\n",
        "    p = np.ndarray(D.shape)\n",
        "    for a in range(len(D)):\n",
        "      for b in range(len(D[0])):\n",
        "        if a == b or D[a,b] == np.inf:\n",
        "          p[a,b] = None\n",
        "        \n",
        "        else:\n",
        "          p[a,b] = a\n",
        "    \n",
        "    dist = np.copy(D)\n",
        "    \n",
        "    for n in range(k):\n",
        "        for i in range(len(D)):\n",
        "            for j in range(len(D)):  \n",
        "                old_dist = dist[i,j]\n",
        "\n",
        "                dist[i,j] = min(dist[i,j], dist[i,n] + dist[n, j])\n",
        "\n",
        "                if old_dist != dist[i,j]:\n",
        "                  p[i,j] = p[n,j]\n",
        "    \n",
        "    print(\"Predecessor Matrix:\\n\", p)\n",
        "    print(\"D Matrix:\\n\", D)\n",
        "    return p, dist\n",
        "\n",
        "matrix = np.array([[0, np.inf, 3, np.inf, np.inf],\n",
        "                   [4, 0, np.inf, 1, 2], \n",
        "                   [3, 8, 0, 2, 6],\n",
        "                   [np.inf, 1, np.inf, 0, 4], \n",
        "                   [np.inf, 1, 6, 4, 0]])\n",
        "\n",
        "p_k(matrix, 5)"
      ],
      "metadata": {
        "colab": {
          "base_uri": "https://localhost:8080/"
        },
        "id": "v_f8p0pSOE2L",
        "outputId": "7bfd7c73-3b57-4dcd-c6f5-39339d3df405"
      },
      "execution_count": 146,
      "outputs": [
        {
          "output_type": "stream",
          "name": "stdout",
          "text": [
            "Predecessor Matrix:\n",
            " [[nan  3.  0.  2.  1.]\n",
            " [ 1. nan  0.  1.  1.]\n",
            " [ 2.  3. nan  2.  1.]\n",
            " [ 1.  3.  0. nan  1.]\n",
            " [ 1.  4.  4.  1. nan]]\n",
            "D Matrix:\n",
            " [[ 0. inf  3. inf inf]\n",
            " [ 4.  0. inf  1.  2.]\n",
            " [ 3.  8.  0.  2.  6.]\n",
            " [inf  1. inf  0.  4.]\n",
            " [inf  1.  6.  4.  0.]]\n"
          ]
        },
        {
          "output_type": "execute_result",
          "data": {
            "text/plain": [
              "(array([[nan,  3.,  0.,  2.,  1.],\n",
              "        [ 1., nan,  0.,  1.,  1.],\n",
              "        [ 2.,  3., nan,  2.,  1.],\n",
              "        [ 1.,  3.,  0., nan,  1.],\n",
              "        [ 1.,  4.,  4.,  1., nan]]), array([[0., 6., 3., 5., 8.],\n",
              "        [4., 0., 7., 1., 2.],\n",
              "        [3., 3., 0., 2., 5.],\n",
              "        [5., 1., 8., 0., 3.],\n",
              "        [5., 1., 6., 2., 0.]]))"
            ]
          },
          "metadata": {},
          "execution_count": 146
        }
      ]
    },
    {
      "cell_type": "markdown",
      "source": [
        "Note, to find the optimal $P^*$ you can simply call the function with $k = n$ where $n$ is the number of vertices. \n",
        "\n",
        "We can obtain the sequence of vertices that are required to traverse from $v_i$ to $v_j$ by looking at the entry $P^* (i,j)$. This tells us the predecessor of vertex $j$ in the sequence. Let the predecessor of vertex $j$ be some vertex $l$. Then, we look at the entry $P^*(i, l)$ to find the predecessor of $l$ in the sequence from $i$ to $l$. We repeat this method of looking at the predecessor in the $P^*$ matrix until we return to the initial vertex, $i$."
      ],
      "metadata": {
        "id": "HkoSDfdSb0kE"
      }
    },
    {
      "cell_type": "markdown",
      "source": [
        "## Programming Homework"
      ],
      "metadata": {
        "id": "BItDgaMbb0K5"
      }
    },
    {
      "cell_type": "markdown",
      "source": [
        "### Question 5"
      ],
      "metadata": {
        "id": "mv8OimiMKOGl"
      }
    },
    {
      "cell_type": "code",
      "execution_count": 172,
      "metadata": {
        "id": "q4lNPih_77sN"
      },
      "outputs": [],
      "source": [
        "import numpy as np\n",
        "import random\n",
        "import matplotlib\n",
        "import matplotlib.pyplot as plt\n",
        "from tqdm import trange\n",
        "from scipy.stats import poisson\n",
        "from scipy import stats"
      ]
    },
    {
      "cell_type": "markdown",
      "source": [
        "Question 5A: "
      ],
      "metadata": {
        "id": "Mcnv76hjOuR_"
      }
    },
    {
      "cell_type": "code",
      "source": [
        "class skishop_5A:\n",
        "\n",
        "    def __init__(self, averages):\n",
        "        self.averages = averages\n",
        "        self.gamma = 0.9\n",
        "        self.cost = 500\n",
        "        self.price = 700\n",
        "        self.finalsale = 300\n",
        "        self.currentstate = (\"sep\", 0)\n",
        "        self.initial = (\"sep\", 0)\n",
        "        self.max_stock = 100\n",
        "        self.state_values = np.zeros((len(averages), self.max_stock + 1))\n",
        "\n",
        "    def reset(self):\n",
        "        self.currentstate = self.initial\n",
        "        self.state_values = np.zeros((len(averages), self.max_stock + 1))\n",
        "\n",
        "    def act(self):\n",
        "\n",
        "        # iterate backwards through months\n",
        "        for i in range(len(averages)):\n",
        "            index = (-1 * i) - 1\n",
        "            month = averages[index][0]\n",
        "            lambda_M = self.averages[index][1]\n",
        "\n",
        "            # if dealing with march\n",
        "            if month == self.averages[-1][0]: \n",
        "                for stock in range(self.max_stock + 1):\n",
        "                    self.state_values[-1, stock] = stock * self.finalsale\n",
        "\n",
        "            else:\n",
        "                for stock in range(self.max_stock + 1):\n",
        "                    # determine order value using suboptimal policy\n",
        "                    if 0.5 * lambda_M < 5:\n",
        "                        order = min(random.randint(int(0.5 * lambda_M), 5), self.max_stock - stock)\n",
        "                \n",
        "                    else:\n",
        "                        order = min(random.randint(5, int(0.5 * lambda_M)), self.max_stock - stock)\n",
        "\n",
        "                    state_value = 0\n",
        "\n",
        "                    for demand in range(self.max_stock + 1):\n",
        "                        d = min(demand, stock + order)\n",
        "                        probability = poisson.pmf(k = demand, mu = lambda_M)\n",
        "                        \n",
        "                        # use tail CDF for demand = 100 to represent p(demand >= 100)\n",
        "                        if demand == self.max_stock:\n",
        "                            probability = 1 - poisson.cdf(k = demand, mu = lambda_M)\n",
        "                        \n",
        "                        reward = (self.price * d) - (self.cost * order)\n",
        "                        state_value += probability * (reward + self.gamma * self.state_values[index + 1, stock + order - d])\n",
        "                    \n",
        "                    self.state_values[index, stock] = state_value\n",
        "          \n",
        "        # return value for sept, 0\n",
        "        return self.state_values[0][0]\n",
        "\n",
        "def simulate(runs, averages, skishop):\n",
        "\n",
        "    values = np.zeros(runs)\n",
        "\n",
        "    for i in trange(runs):\n",
        "        skishop.reset()\n",
        "        val = skishop.act()\n",
        "        values[i] = val\n",
        "\n",
        "    mean_value = values.mean()\n",
        "    return mean_value\n",
        "\n",
        "averages = [(\"sep\", 0), (\"oct\", 20), (\"nov\", 40), (\"dec\", 50), (\"jan\", 35), (\"feb\", 25), (\"mar\", 5), (\"mar+\", 0)]\n",
        "skishop = skishop_5A(averages)\n",
        "print(skishop.act())"
      ],
      "metadata": {
        "colab": {
          "base_uri": "https://localhost:8080/"
        },
        "id": "ofHqvNDjeD8o",
        "outputId": "d1f47a16-a44c-4b6e-a774-0865158e4fe8"
      },
      "execution_count": 161,
      "outputs": [
        {
          "output_type": "stream",
          "name": "stdout",
          "text": [
            "7348.3018993011265\n"
          ]
        }
      ]
    },
    {
      "cell_type": "markdown",
      "source": [
        "Question 5B:"
      ],
      "metadata": {
        "id": "gavn-hzIOxuW"
      }
    },
    {
      "cell_type": "code",
      "source": [
        "### CODE FOR 5B CHANGING THE SAMPLING TO PROBABILITIES\n",
        "class skishop_pls:\n",
        "\n",
        "    def __init__(self, averages):\n",
        "        self.averages = averages\n",
        "        self.gamma = 0.9\n",
        "        self.cost = 500\n",
        "        self.price = 700\n",
        "        self.finalsale = 300\n",
        "        self.currentstate = (\"sep\", 0)\n",
        "        self.initial = (\"sep\", 0)\n",
        "        self.max_stock = 100\n",
        "        self.optimal_orders = np.zeros((len(averages), self.max_stock + 1))\n",
        "        self.state_values = np.zeros((len(averages), self.max_stock + 1))\n",
        "\n",
        "    def reset(self):\n",
        "        self.currentstate = self.initial\n",
        "        self.state_values = np.zeros((len(averages), self.max_stock + 1))\n",
        "\n",
        "    def act(self):\n",
        "        \n",
        "        # recurse backwards\n",
        "        for i in trange(len(averages)):\n",
        "            index = (-1 * i) - 1\n",
        "            month = averages[index][0]\n",
        "            lambda_M = self.averages[index][1]\n",
        "\n",
        "            # if dealing with march\n",
        "            if month == self.averages[-1][0]: \n",
        "                for stock in range(self.max_stock + 1):\n",
        "                    self.state_values[-1, stock] = stock * self.finalsale \n",
        "            \n",
        "            else:\n",
        "                for stock in range(self.max_stock + 1):\n",
        "                    # determine order using max function\n",
        "                    max_value = 0\n",
        "\n",
        "                    for order in range(self.max_stock - stock + 1):\n",
        "\n",
        "                        state_value = 0\n",
        "\n",
        "                        for demand in range(self.max_stock + 1):\n",
        "                            d = min(demand, stock + order)\n",
        "                            probability = poisson.pmf(k = demand, mu = lambda_M)\n",
        "                            \n",
        "                            if demand == self.max_stock:\n",
        "                                probability = 1 - poisson.cdf(k = demand, mu = lambda_M)\n",
        "                            \n",
        "                            reward = (self.price * d) - (self.cost * order)\n",
        "                            state_value += probability * (reward + self.gamma * self.state_values[index + 1, stock + order - d])\n",
        "\n",
        "                        if state_value > max_value:\n",
        "                            max_value = state_value\n",
        "                            self.optimal_orders[index, stock] = order\n",
        "                        \n",
        "                    self.state_values[index, stock] = max_value\n",
        "          \n",
        "        return self.optimal_orders\n",
        "            \n",
        "averages = [(\"sep\", 0), (\"oct\", 20), (\"nov\", 40), (\"dec\", 50), (\"jan\", 35), (\"feb\", 25), (\"mar\", 5), (\"mar+\", 0)]\n",
        "skishop = skishop_pls(averages)\n",
        "\n",
        "optimal_orders = skishop.act()\n",
        "\n",
        "# the value of september under optimal policy is\n",
        "print(skishop.state_values[0][0])\n",
        "\n",
        "# plotting\n",
        "x = [i for i in range(100 + 1)]\n",
        "for i in range(len(averages)):\n",
        "  month = averages[i][0]\n",
        "  order_policy = optimal_orders[i]\n",
        "  plt.plot(x, order_policy)\n",
        "  plt.title(\"Order Policy for \" + month)\n",
        "  plt.xlabel(\"Initial State\")\n",
        "  plt.ylabel(\"Order\")\n",
        "  plt.grid()\n",
        "  plt.show()"
      ],
      "metadata": {
        "id": "PjcbXzi0Q27W",
        "colab": {
          "base_uri": "https://localhost:8080/",
          "height": 1000
        },
        "outputId": "5282edc7-b876-47dc-a20d-d4e373e8e3b0"
      },
      "execution_count": 187,
      "outputs": [
        {
          "output_type": "stream",
          "name": "stderr",
          "text": [
            "100%|██████████| 8/8 [05:21<00:00, 40.23s/it]"
          ]
        },
        {
          "output_type": "stream",
          "name": "stdout",
          "text": [
            "[[ 0.  0.  0.  0.  0.  0.  0.  0.  0.  0.  0.  0.  0.  0.  0.  0.  0.  0.\n",
            "   0.  0.  0.  0.  0.  0.  0.  0.  0.  0.  0.  0.  0.  0.  0.  0.  0.  0.\n",
            "   0.  0.  0.  0.  0.  0.  0.  0.  0.  0.  0.  0.  0.  0.  0.  0.  0.  0.\n",
            "   0.  0.  0.  0.  0.  0.  0.  0.  0.  0.  0.  0.  0.  0.  0.  0.  0.  0.\n",
            "   0.  0.  0.  0.  0.  0.  0.  0.  0.  0.  0.  0.  0.  0.  0.  0.  0.  0.\n",
            "   0.  0.  0.  0.  0.  0.  0.  0.  0.  0.  0.]\n",
            " [24. 23. 22. 21. 20. 19. 18. 17. 16. 15. 14. 13. 12. 11. 10.  9.  8.  7.\n",
            "   6.  5.  4.  3.  2.  1.  0.  0.  0.  0.  0.  0.  0.  0.  0.  0.  0.  0.\n",
            "   0.  0.  0.  0.  0.  0.  0.  0.  0.  0.  0.  0.  0.  0.  0.  0.  0.  0.\n",
            "   0.  0.  0.  0.  0.  0.  0.  0.  0.  0.  0.  0.  0.  0.  0.  0.  0.  0.\n",
            "   0.  0.  0.  0.  0.  0.  0.  0.  0.  0.  0.  0.  0.  0.  0.  0.  0.  0.\n",
            "   0.  0.  0.  0.  0.  0.  0.  0.  0.  0.  0.]\n",
            " [45. 44. 43. 42. 41. 40. 39. 38. 37. 36. 35. 34. 33. 32. 31. 30. 29. 28.\n",
            "  27. 26. 25. 24. 23. 22. 21. 20. 19. 18. 17. 16. 15. 14. 13. 12. 11. 10.\n",
            "   9.  8.  7.  6.  5.  4.  3.  2.  1.  0.  0.  0.  0.  0.  0.  0.  0.  0.\n",
            "   0.  0.  0.  0.  0.  0.  0.  0.  0.  0.  0.  0.  0.  0.  0.  0.  0.  0.\n",
            "   0.  0.  0.  0.  0.  0.  0.  0.  0.  0.  0.  0.  0.  0.  0.  0.  0.  0.\n",
            "   0.  0.  0.  0.  0.  0.  0.  0.  0.  0.  0.]\n",
            " [56. 55. 54. 53. 52. 51. 50. 49. 48. 47. 46. 45. 44. 43. 42. 41. 40. 39.\n",
            "  38. 37. 36. 35. 34. 33. 32. 31. 30. 29. 28. 27. 26. 25. 24. 23. 22. 21.\n",
            "  20. 19. 18. 17. 16. 15. 14. 13. 12. 11. 10.  9.  8.  7.  6.  5.  4.  3.\n",
            "   2.  1.  0.  0.  0.  0.  0.  0.  0.  0.  0.  0.  0.  0.  0.  0.  0.  0.\n",
            "   0.  0.  0.  0.  0.  0.  0.  0.  0.  0.  0.  0.  0.  0.  0.  0.  0.  0.\n",
            "   0.  0.  0.  0.  0.  0.  0.  0.  0.  0.  0.]\n",
            " [40. 39. 38. 37. 36. 35. 34. 33. 32. 31. 30. 29. 28. 27. 26. 25. 24. 23.\n",
            "  22. 21. 20. 19. 18. 17. 16. 15. 14. 13. 12. 11. 10.  9.  8.  7.  6.  5.\n",
            "   4.  3.  2.  1.  0.  0.  0.  0.  0.  0.  0.  0.  0.  0.  0.  0.  0.  0.\n",
            "   0.  0.  0.  0.  0.  0.  0.  0.  0.  0.  0.  0.  0.  0.  0.  0.  0.  0.\n",
            "   0.  0.  0.  0.  0.  0.  0.  0.  0.  0.  0.  0.  0.  0.  0.  0.  0.  0.\n",
            "   0.  0.  0.  0.  0.  0.  0.  0.  0.  0.  0.]\n",
            " [27. 26. 25. 24. 23. 22. 21. 20. 19. 18. 17. 16. 15. 14. 13. 12. 11. 10.\n",
            "   9.  8.  7.  6.  5.  4.  3.  2.  1.  0.  0.  0.  0.  0.  0.  0.  0.  0.\n",
            "   0.  0.  0.  0.  0.  0.  0.  0.  0.  0.  0.  0.  0.  0.  0.  0.  0.  0.\n",
            "   0.  0.  0.  0.  0.  0.  0.  0.  0.  0.  0.  0.  0.  0.  0.  0.  0.  0.\n",
            "   0.  0.  0.  0.  0.  0.  0.  0.  0.  0.  0.  0.  0.  0.  0.  0.  0.  0.\n",
            "   0.  0.  0.  0.  0.  0.  0.  0.  0.  0.  0.]\n",
            " [ 5.  4.  3.  2.  1.  0.  0.  0.  0.  0.  0.  0.  0.  0.  0.  0.  0.  0.\n",
            "   0.  0.  0.  0.  0.  0.  0.  0.  0.  0.  0.  0.  0.  0.  0.  0.  0.  0.\n",
            "   0.  0.  0.  0.  0.  0.  0.  0.  0.  0.  0.  0.  0.  0.  0.  0.  0.  0.\n",
            "   0.  0.  0.  0.  0.  0.  0.  0.  0.  0.  0.  0.  0.  0.  0.  0.  0.  0.\n",
            "   0.  0.  0.  0.  0.  0.  0.  0.  0.  0.  0.  0.  0.  0.  0.  0.  0.  0.\n",
            "   0.  0.  0.  0.  0.  0.  0.  0.  0.  0.  0.]\n",
            " [ 0.  0.  0.  0.  0.  0.  0.  0.  0.  0.  0.  0.  0.  0.  0.  0.  0.  0.\n",
            "   0.  0.  0.  0.  0.  0.  0.  0.  0.  0.  0.  0.  0.  0.  0.  0.  0.  0.\n",
            "   0.  0.  0.  0.  0.  0.  0.  0.  0.  0.  0.  0.  0.  0.  0.  0.  0.  0.\n",
            "   0.  0.  0.  0.  0.  0.  0.  0.  0.  0.  0.  0.  0.  0.  0.  0.  0.  0.\n",
            "   0.  0.  0.  0.  0.  0.  0.  0.  0.  0.  0.  0.  0.  0.  0.  0.  0.  0.\n",
            "   0.  0.  0.  0.  0.  0.  0.  0.  0.  0.  0.]]\n",
            "23653.791661836058\n"
          ]
        },
        {
          "output_type": "stream",
          "name": "stderr",
          "text": [
            "\n"
          ]
        },
        {
          "output_type": "display_data",
          "data": {
            "text/plain": [
              "<Figure size 432x288 with 1 Axes>"
            ],
            "image/png": "[encoded data removed]"
          },
          "metadata": {
            "needs_background": "light"
          }
        },
        {
          "output_type": "display_data",
          "data": {
            "text/plain": [
              "<Figure size 432x288 with 1 Axes>"
            ],
            "image/png": "[encoded data removed]"
          },
          "metadata": {
            "needs_background": "light"
          }
        },
        {
          "output_type": "display_data",
          "data": {
            "text/plain": [
              "<Figure size 432x288 with 1 Axes>"
            ],
            "image/png": "[encoded data removed]"
          },
          "metadata": {
            "needs_background": "light"
          }
        },
        {
          "output_type": "display_data",
          "data": {
            "text/plain": [
              "<Figure size 432x288 with 1 Axes>"
            ],
            "image/png": "[encoded data removed]"
          },
          "metadata": {
            "needs_background": "light"
          }
        },
        {
          "output_type": "display_data",
          "data": {
            "text/plain": [
              "<Figure size 432x288 with 1 Axes>"
            ],
            "image/png": "[encoded data removed]"
          },
          "metadata": {
            "needs_background": "light"
          }
        },
        {
          "output_type": "display_data",
          "data": {
            "text/plain": [
              "<Figure size 432x288 with 1 Axes>"
            ],
            "image/png": "[encoded data removed]"
          },
          "metadata": {
            "needs_background": "light"
          }
        },
        {
          "output_type": "display_data",
          "data": {
            "text/plain": [
              "<Figure size 432x288 with 1 Axes>"
            ],
            "image/png": "[encoded data removed]"
          },
          "metadata": {
            "needs_background": "light"
          }
        },
        {
          "output_type": "display_data",
          "data": {
            "text/plain": [
              "<Figure size 432x288 with 1 Axes>"
            ],
            "image/png": "[encoded data removed]"
          },
          "metadata": {
            "needs_background": "light"
          }
        }
      ]
    },
    {
      "cell_type": "code",
      "source": [
        "class skishop_optimal:\n",
        "\n",
        "    def __init__(self, averages, optimal_policy):\n",
        "        self.averages = averages\n",
        "        self.gamma = 0.9\n",
        "        self.cost = 500\n",
        "        self.price = 700\n",
        "        self.finalsale = 300\n",
        "        self.currentstate = (\"sep\", 0)\n",
        "        self.initial = (\"sep\", 0)\n",
        "        self.max_stock = 100\n",
        "        self.optimal_orders = np.zeros((len(self.averages), len(self.averages[0])))\n",
        "        self.optimal_policy = optimal_policy\n",
        "\n",
        "    def reset(self):\n",
        "        self.currentstate = self.initial\n",
        "\n",
        "    def act(self):\n",
        "\n",
        "        stock = self.currentstate[1]\n",
        "        profit = 0\n",
        "        \n",
        "        for i in range(len(self.averages)):\n",
        "\n",
        "          month = self.averages[i][0]\n",
        "          lambda_M = self.averages[i][1]\n",
        "\n",
        "          order = int(self.optimal_policy[i, stock])\n",
        "          demand = min(np.random.poisson(lam = lambda_M), stock + order)\n",
        "          profit = (self.price * demand) - (self.cost * order)\n",
        "\n",
        "          if i < len(self.averages) - 1:\n",
        "            stock = stock + order - demand\n",
        "          \n",
        "          else: # last month, march\n",
        "            profit += (stock + order - demand) * self.finalsale\n",
        "        \n",
        "        return profit\n",
        "\n",
        "def simulate_5C(runs, averages, skishop):\n",
        "\n",
        "    profits = np.zeros(runs)\n",
        "\n",
        "    for i in trange(runs):\n",
        "        skishop.reset()\n",
        "        profit = skishop.act()\n",
        "        profits[i] = profit\n",
        "\n",
        "    return profits\n",
        "            \n",
        "averages = [(\"sep\", 0), (\"oct\", 20), (\"nov\", 40), (\"dec\", 50), (\"jan\", 35), (\"feb\", 25), (\"mar\", 5), (\"mar+\", 0)]\n",
        "skishop = skishop_optimal(averages, optimal_policy=optimal_orders)\n",
        "profits = simulate_5C(1000, averages, skishop)\n",
        "\n",
        "mean_profits = profits.mean()\n",
        "stdev = stats.tstd(profits)\n",
        "\n",
        "plt.plot(profits)\n",
        "plt.xlabel(\"Run\")\n",
        "plt.ylabel(\"Mean Profit\")\n",
        "plt.title(\"Mean Profit Under Optimal Policy for 1000 runs\")\n",
        "plt.axis()\n",
        "plt.grid()\n",
        "plt.show()\n",
        "\n",
        "print(\"Mean Profit: \", mean_profits)\n",
        "print(\"Standard Deviation: \", stdev)"
      ],
      "metadata": {
        "colab": {
          "base_uri": "https://localhost:8080/",
          "height": 347
        },
        "id": "fq6rP_WicCoE",
        "outputId": "0627cb55-9c05-40f3-ab3e-e4a5d086c481"
      },
      "execution_count": 184,
      "outputs": [
        {
          "output_type": "stream",
          "name": "stderr",
          "text": [
            "100%|██████████| 1000/1000 [00:00<00:00, 24724.30it/s]\n"
          ]
        },
        {
          "output_type": "display_data",
          "data": {
            "text/plain": [
              "<Figure size 432x288 with 1 Axes>"
            ],
            "image/png": "[encoded data removed]"
          },
          "metadata": {
            "needs_background": "light"
          }
        },
        {
          "output_type": "stream",
          "name": "stdout",
          "text": [
            "Mean Profit:  17167.5\n",
            "Standard Deviation:  1576.1846681490426\n"
          ]
        }
      ]
    },
    {
      "cell_type": "markdown",
      "source": [
        "The mean profit using this optimal strategy is approximately 17,000. Comparatively, the optimal state value of (Sep, 0) predicted by the algorithm is approximately 23,000. The value under the optimal policy is lower, but this is expected because demand is still random so optimal returns will not always occur. "
      ],
      "metadata": {
        "id": "O41opJlBus7b"
      }
    }
  ]
}